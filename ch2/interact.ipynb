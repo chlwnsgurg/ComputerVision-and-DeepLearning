{
 "cells": [
  {
   "cell_type": "code",
   "execution_count": 12,
   "metadata": {},
   "outputs": [],
   "source": [
    "import cv2 as cv\n",
    "import sys"
   ]
  },
  {
   "cell_type": "code",
   "execution_count": 13,
   "metadata": {},
   "outputs": [],
   "source": [
    "img=cv.imread('hockey.jpeg')\n",
    "if img is None:\n",
    "    sys.exit('Could not read the image.')   "
   ]
  },
  {
   "cell_type": "code",
   "execution_count": 14,
   "metadata": {},
   "outputs": [],
   "source": [
    "def draw(event,x,y,flags,param):\n",
    "    global ix,iy\n",
    "    if event==cv.EVENT_LBUTTONDOWN:\n",
    "        ix,iy=x,y\n",
    "    elif event ==cv.EVENT_LBUTTONUP:\n",
    "        cv.rectangle(img,(ix,iy),(x,y),(0,255,0),2)\n",
    "    cv.imshow('interact',img)"
   ]
  },
  {
   "cell_type": "code",
   "execution_count": 15,
   "metadata": {},
   "outputs": [],
   "source": [
    "cv.namedWindow('interact')\n",
    "cv.imshow('interact',img)\n",
    "cv.setMouseCallback('interact',draw)"
   ]
  },
  {
   "cell_type": "code",
   "execution_count": 17,
   "metadata": {},
   "outputs": [],
   "source": [
    "while True:\n",
    "    if cv.waitKey(1)==ord('q'):\n",
    "        cv.destroyAllWindows\n",
    "        break"
   ]
  }
 ],
 "metadata": {
  "kernelspec": {
   "display_name": "cv",
   "language": "python",
   "name": "python3"
  },
  "language_info": {
   "codemirror_mode": {
    "name": "ipython",
    "version": 3
   },
   "file_extension": ".py",
   "mimetype": "text/x-python",
   "name": "python",
   "nbconvert_exporter": "python",
   "pygments_lexer": "ipython3",
   "version": "3.12.4"
  }
 },
 "nbformat": 4,
 "nbformat_minor": 2
}
