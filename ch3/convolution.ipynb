{
 "cells": [
  {
   "cell_type": "code",
   "execution_count": 11,
   "metadata": {},
   "outputs": [],
   "source": [
    "import cv2 as cv\n",
    "import numpy as np"
   ]
  },
  {
   "cell_type": "code",
   "execution_count": 12,
   "metadata": {},
   "outputs": [],
   "source": [
    "img=cv.imread('hockey.jpeg')\n",
    "img=cv.resize(img,dsize=(0,0),fx=0.4,fy=0.4)\n",
    "gray=cv.cvtColor(img,cv.COLOR_BGR2GRAY)\n",
    "cv.putText(img,'Hockey',(10,30),cv.FONT_HERSHEY_SIMPLEX,1,(0,0,255),2)\n",
    "cv.imshow('Hockey',img)"
   ]
  },
  {
   "cell_type": "code",
   "execution_count": 13,
   "metadata": {},
   "outputs": [],
   "source": [
    "femboss=np.array([[-1,0,0],[0,0,0],[0,0,1]])\n",
    "gray16=np.int16(gray)\n",
    "emboss=np.uint8(np.clip(cv.filter2D(gray16,-1,femboss)+128,0,255))\n",
    "emboss_bad=np.uint8(cv.filter2D(gray16,-1,femboss)+128)\n",
    "emboss_worse=cv.filter2D(gray,-1,femboss)"
   ]
  },
  {
   "cell_type": "code",
   "execution_count": 10,
   "metadata": {},
   "outputs": [],
   "source": [
    "cv.imshow('Emboss',emboss)\n",
    "cv.imshow('Emboss_worse',emboss_worse)\n",
    "cv.waitKey(0)\n",
    "cv.destroyAllWindows()"
   ]
  },
  {
   "cell_type": "code",
   "execution_count": null,
   "metadata": {},
   "outputs": [],
   "source": []
  }
 ],
 "metadata": {
  "kernelspec": {
   "display_name": "cv",
   "language": "python",
   "name": "python3"
  },
  "language_info": {
   "codemirror_mode": {
    "name": "ipython",
    "version": 3
   },
   "file_extension": ".py",
   "mimetype": "text/x-python",
   "name": "python",
   "nbconvert_exporter": "python",
   "pygments_lexer": "ipython3",
   "version": "3.12.4"
  }
 },
 "nbformat": 4,
 "nbformat_minor": 2
}
